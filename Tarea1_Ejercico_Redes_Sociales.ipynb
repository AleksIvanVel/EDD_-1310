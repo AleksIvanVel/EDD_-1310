{
  "nbformat": 4,
  "nbformat_minor": 0,
  "metadata": {
    "colab": {
      "name": "Tarea1_Ejercico_Redes_Sociales.ipynb",
      "provenance": [],
      "collapsed_sections": [],
      "authorship_tag": "ABX9TyNz7I9Bzngh2aIguyHbgxYW",
      "include_colab_link": true
    },
    "kernelspec": {
      "name": "python3",
      "display_name": "Python 3"
    },
    "language_info": {
      "name": "python"
    }
  },
  "cells": [
    {
      "cell_type": "markdown",
      "metadata": {
        "id": "view-in-github",
        "colab_type": "text"
      },
      "source": [
        "<a href=\"https://colab.research.google.com/github/AleksIvanVel/EDD_-1310/blob/main/Tarea1_Ejercico_Redes_Sociales.ipynb\" target=\"_parent\"><img src=\"https://colab.research.google.com/assets/colab-badge.svg\" alt=\"Open In Colab\"/></a>"
      ]
    },
    {
      "cell_type": "code",
      "source": [
        "#lectura del archivo csv\n",
        "with open(\"presenciaredes.csv\") as archivo: \n",
        "    filas = archivo.read().splitlines()\n",
        "    for l in filas:\n",
        "        colum = l.split(',')\n",
        "        print(colum)"
      ],
      "metadata": {
        "colab": {
          "base_uri": "https://localhost:8080/"
        },
        "id": "iLfh2q8g19bA",
        "outputId": "c01f4559-5ef5-4d41-9ca2-2408389bc830"
      },
      "execution_count": 3,
      "outputs": [
        {
          "output_type": "stream",
          "name": "stdout",
          "text": [
            "['\\ufeffRED SOCIAL', 'CONCEPTO', 'AÑO', 'ENERO', 'FEBRERO', 'MARZO', 'ABRIL', 'MAYO', 'JUNIO', 'JULIO', 'AGOSTO', 'SEPTIEMBRE', 'OCTUBRE', 'NOVIEMBRE', 'DICIEMBRE', '']\n",
            "['FACEBOOK', 'SEGUIDORES', '2020', '152', '107', '156', '957', '160', '595', '165', '180', '170', '488', '178', '413', '0', '0', '0', '0', '0', '0', '']\n",
            "['FACEBOOK', 'CRECIMIENTO (seguidores)', '2020', '660', '4', '850', '3', '638', '4', '585', '5', '308', '7', '925', '0', '0', '0', '0', '0', '0', '']\n",
            "['FACEBOOK', 'PORCENTAJE DE CRECIMIENTO ', '2020', '0.43%', '3%', '2%', '3%', '3%', '4%', '0%', '0%', '0%', '0.00%', '0.00%', '0%', '']\n",
            "['FACEBOOK', 'PUBLICACIONES ', '2020', '45', '53', '52', '106', '98', '64', '0', '0', '0', '0', '0', '0', '']\n",
            "['FACEBOOK', 'ME GUSTA EN PUBLICACIONES ', '2020', '8771', '9002', '13556', '15', '022', '38953', '16487', '0', '0', '0', '0', '0', '0', '']\n",
            "['FACEBOOK', 'PUBLICACIONES COMPARTIDAS ', '2020', '2338', '2680', '2802', '4214', '8415', '4240', '0', '0', '0', '0', '0', '0', '']\n",
            "['FACEBOOK', 'COMENTARIOS (USUARIOS)', '2020', '902', '601', '775', '1100', '2614', '1268', '0', '0', '0', '0', '0', '0', '']\n",
            "['TWITTER', 'SEGUIDORES (FOLLOWERS)', '2020', '62', '404', '63', '232', '64', '149', '65', '410', '66', '355', '67', '496', '0', '0', '0', '0', '0', '0', '']\n",
            "['TWITTER', 'CRECIMIENTO DE FOLLOWERS', '2020', '863', '828', '917', '1', '261', '945', '1', '141', '0', '0', '0', '0', '0', '0', '']\n",
            "['TWITTER', 'PORCENTAJE DE CRECIMIENTO', '2020', '1%', '1%', '1%', '2%', '1%', '1%', '0%', '0%', '0%', '0.00%', '0%', '0%', '']\n",
            "['TWITTER', 'PUBLICACIONES', '2020', '77', '84', '90', '135', '127', '82', '0', '0', '0', '0', '0', '0', '']\n",
            "['TWITTER', 'RETUITS', '2020', '563', '601', '748', '847', '1', '136', '780', '0', '0', '0', '0', '0', '0', '']\n",
            "['TWITTER', 'ME GUSTA', '2020', '1224', '1225', '1601', '1', '994', '2', '667', '2069', '0', '0', '0', '0', '0', '0', '']\n",
            "['TWITTER', 'IMPACTOS', '2020', '197275', '220118', '270310', '311', '931', '409', '684', '284147', '0', '0', '0', '0', '0', '0', '']\n",
            "['YOUTUBE', 'VIDEOS', '2020', '1', '2', '5', '4', '4', '4', '0', '0', '0', '3', '5', '0', '']\n",
            "['YOUTUBE', 'VISUALIZACIONES', '2020', '12', '226', '15', '605', '19', '602', '19', '452', '21', '805', '17344', '0', '0', '0', '0', '0', '0', '']\n",
            "['YOUTUBE', 'COMENTARIOS', '2020', '0', '0', '2', '0', '6', '0', '0', '0', '0', '1', '3', '0', '']\n",
            "['YOUTUBE', 'ME GUSTA', '2020', '4', '15', '15', '8', '30', '33', '0', '0', '0', '8', '23', '0', '']\n"
          ]
        }
      ]
    },
    {
      "cell_type": "code",
      "execution_count": 11,
      "metadata": {
        "id": "mVpD5lxhwagH",
        "colab": {
          "base_uri": "https://localhost:8080/"
        },
        "outputId": "644e86d2-0dd6-44e2-d815-4e7de2363edf"
      },
      "outputs": [
        {
          "output_type": "stream",
          "name": "stdout",
          "text": [
            "['FACEBOOK', 'SEGUIDORES', '2020', '152', '107', '156', '957', '160', '595', '165', '180', '170', '488', '178', '413', '0', '0', '0', '0', '0', '0', '']\n",
            "['FACEBOOK', 'CRECIMIENTO (seguidores)', '2020', '660', '4', '850', '3', '638', '4', '585', '5', '308', '7', '925', '0', '0', '0', '0', '0', '0', '']\n",
            "['FACEBOOK', 'PORCENTAJE DE CRECIMIENTO ', '2020', '0.43%', '3%', '2%', '3%', '3%', '4%', '0%', '0%', '0%', '0.00%', '0.00%', '0%', '']\n",
            "['FACEBOOK', 'PUBLICACIONES ', '2020', '45', '53', '52', '106', '98', '64', '0', '0', '0', '0', '0', '0', '']\n",
            "['FACEBOOK', 'ME GUSTA EN PUBLICACIONES ', '2020', '8771', '9002', '13556', '15', '022', '38953', '16487', '0', '0', '0', '0', '0', '0', '']\n",
            "['FACEBOOK', 'PUBLICACIONES COMPARTIDAS ', '2020', '2338', '2680', '2802', '4214', '8415', '4240', '0', '0', '0', '0', '0', '0', '']\n",
            "['FACEBOOK', 'COMENTARIOS (USUARIOS)', '2020', '902', '601', '775', '1100', '2614', '1268', '0', '0', '0', '0', '0', '0', '']\n",
            "['TWITTER', 'SEGUIDORES (FOLLOWERS)', '2020', '62', '404', '63', '232', '64', '149', '65', '410', '66', '355', '67', '496', '0', '0', '0', '0', '0', '0', '']\n",
            "['TWITTER', 'CRECIMIENTO DE FOLLOWERS', '2020', '863', '828', '917', '1', '261', '945', '1', '141', '0', '0', '0', '0', '0', '0', '']\n",
            "['TWITTER', 'PORCENTAJE DE CRECIMIENTO', '2020', '1%', '1%', '1%', '2%', '1%', '1%', '0%', '0%', '0%', '0.00%', '0%', '0%', '']\n",
            "['TWITTER', 'PUBLICACIONES', '2020', '77', '84', '90', '135', '127', '82', '0', '0', '0', '0', '0', '0', '']\n",
            "['TWITTER', 'RETUITS', '2020', '563', '601', '748', '847', '1', '136', '780', '0', '0', '0', '0', '0', '0', '']\n",
            "['TWITTER', 'ME GUSTA', '2020', '1224', '1225', '1601', '1', '994', '2', '667', '2069', '0', '0', '0', '0', '0', '0', '']\n",
            "['TWITTER', 'IMPACTOS', '2020', '197275', '220118', '270310', '311', '931', '409', '684', '284147', '0', '0', '0', '0', '0', '0', '']\n",
            "['YOUTUBE', 'VIDEOS', '2020', '1', '2', '5', '4', '4', '4', '0', '0', '0', '3', '5', '0', '']\n",
            "['YOUTUBE', 'VISUALIZACIONES', '2020', '12', '226', '15', '605', '19', '602', '19', '452', '21', '805', '17344', '0', '0', '0', '0', '0', '0', '']\n",
            "['YOUTUBE', 'COMENTARIOS', '2020', '0', '0', '2', '0', '6', '0', '0', '0', '0', '1', '3', '0', '']\n",
            "['YOUTUBE', 'ME GUSTA', '2020', '4', '15', '15', '8', '30', '33', '0', '0', '0', '8', '23', '0', '']\n",
            "Datos de Enero ['152', '660', '0.43%', '45', '8771', '2338', '902', '62', '863', '1%', '77', '563', '1224', '197275', '1', '12', '0', '4']\n",
            "Datos de Junio ['595', '4', '4%', '64', '38953', '4240', '1268', '149', '945', '1%', '82', '136', '2', '409', '4', '602', '0', '33']\n",
            "\n",
            "La diferencia de Follows en Twiter entre Enero y Junio es:  87\n"
          ]
        }
      ],
      "source": [
        "#diferencia de follows en twiter entre enero y junio\n",
        "\n",
        "info= []\n",
        "info2 = []\n",
        "\n",
        "with open(\"presenciaredes.csv\") as archivo: \n",
        "    filas = archivo.read().splitlines()\n",
        "    filas.pop(0)\n",
        "    for l in filas:\n",
        "        colum = l.split(',')\n",
        "        info.append(colum[3])\n",
        "        info2.append(colum[8])\n",
        "        print(colum)\n",
        "\n",
        "\n",
        "print(\"Datos de Enero\", info)    \n",
        "print(\"Datos de Junio\", info2)\n",
        "\n",
        "difFollow= int(info2[7]) - int(info[7])\n",
        "\n",
        "print(\"\\nLa diferencia de Follows en Twiter entre Enero y Junio es: \", difFollow)\n",
        "\n",
        "\n",
        "\n",
        "\n"
      ]
    },
    {
      "cell_type": "code",
      "source": [
        "#diferencia de views en youtube entre los mese selccionados\n",
        "info= []\n",
        "info2 = []\n",
        "\n",
        "print(\"3 para Enero \\n4 para Febrero \\n5 para Marzo \\n6 para Abril \\n7 para Mayo \\n8 para Junio\") \n",
        "mes = int(input('Ingresa el primer mes para conocer la diferencia de views: '))\n",
        "mes2 = int(input('Ingresa el segundo mes mes para conocer la diferencia de views: ')) \n",
        "if mes != mes2:\n",
        "    with open(\"presenciaredes.csv\") as archivo: \n",
        "        filas = archivo.read().splitlines()\n",
        "        filas.pop(0)\n",
        "        for l in filas:\n",
        "            colum = l.split(',')\n",
        "            info.append(colum[mes])\n",
        "            info2.append(colum[mes2])\n",
        "            print(colum)\n",
        "else:\n",
        "    print(\"Los meses ingresados deben ser diferentes\")\n",
        "\n",
        "print(info, \"\\n\", info2)\n",
        "difViews= int(info2[15]) - int(info[15])\n",
        "print(\"\\nLa diferencia de Views en youtube entre los mese seleccioandos es de: \", difViews)"
      ],
      "metadata": {
        "colab": {
          "base_uri": "https://localhost:8080/"
        },
        "id": "RfoFHCO_yt_e",
        "outputId": "6c4aaaca-7247-4c4a-c9ea-6803eb6ca03d"
      },
      "execution_count": 12,
      "outputs": [
        {
          "output_type": "stream",
          "name": "stdout",
          "text": [
            "3 para Enero \n",
            "4 para Febrero \n",
            "5 para Marzo \n",
            "6 para Abril \n",
            "7 para Mayo \n",
            "8 para Junio\n",
            "Ingresa el primer mes para conocer la diferencia de views: 3\n",
            "Ingresa el segundo mes mes para conocer la diferencia de views: 6\n",
            "['FACEBOOK', 'SEGUIDORES', '2020', '152', '107', '156', '957', '160', '595', '165', '180', '170', '488', '178', '413', '0', '0', '0', '0', '0', '0', '']\n",
            "['FACEBOOK', 'CRECIMIENTO (seguidores)', '2020', '660', '4', '850', '3', '638', '4', '585', '5', '308', '7', '925', '0', '0', '0', '0', '0', '0', '']\n",
            "['FACEBOOK', 'PORCENTAJE DE CRECIMIENTO ', '2020', '0.43%', '3%', '2%', '3%', '3%', '4%', '0%', '0%', '0%', '0.00%', '0.00%', '0%', '']\n",
            "['FACEBOOK', 'PUBLICACIONES ', '2020', '45', '53', '52', '106', '98', '64', '0', '0', '0', '0', '0', '0', '']\n",
            "['FACEBOOK', 'ME GUSTA EN PUBLICACIONES ', '2020', '8771', '9002', '13556', '15', '022', '38953', '16487', '0', '0', '0', '0', '0', '0', '']\n",
            "['FACEBOOK', 'PUBLICACIONES COMPARTIDAS ', '2020', '2338', '2680', '2802', '4214', '8415', '4240', '0', '0', '0', '0', '0', '0', '']\n",
            "['FACEBOOK', 'COMENTARIOS (USUARIOS)', '2020', '902', '601', '775', '1100', '2614', '1268', '0', '0', '0', '0', '0', '0', '']\n",
            "['TWITTER', 'SEGUIDORES (FOLLOWERS)', '2020', '62', '404', '63', '232', '64', '149', '65', '410', '66', '355', '67', '496', '0', '0', '0', '0', '0', '0', '']\n",
            "['TWITTER', 'CRECIMIENTO DE FOLLOWERS', '2020', '863', '828', '917', '1', '261', '945', '1', '141', '0', '0', '0', '0', '0', '0', '']\n",
            "['TWITTER', 'PORCENTAJE DE CRECIMIENTO', '2020', '1%', '1%', '1%', '2%', '1%', '1%', '0%', '0%', '0%', '0.00%', '0%', '0%', '']\n",
            "['TWITTER', 'PUBLICACIONES', '2020', '77', '84', '90', '135', '127', '82', '0', '0', '0', '0', '0', '0', '']\n",
            "['TWITTER', 'RETUITS', '2020', '563', '601', '748', '847', '1', '136', '780', '0', '0', '0', '0', '0', '0', '']\n",
            "['TWITTER', 'ME GUSTA', '2020', '1224', '1225', '1601', '1', '994', '2', '667', '2069', '0', '0', '0', '0', '0', '0', '']\n",
            "['TWITTER', 'IMPACTOS', '2020', '197275', '220118', '270310', '311', '931', '409', '684', '284147', '0', '0', '0', '0', '0', '0', '']\n",
            "['YOUTUBE', 'VIDEOS', '2020', '1', '2', '5', '4', '4', '4', '0', '0', '0', '3', '5', '0', '']\n",
            "['YOUTUBE', 'VISUALIZACIONES', '2020', '12', '226', '15', '605', '19', '602', '19', '452', '21', '805', '17344', '0', '0', '0', '0', '0', '0', '']\n",
            "['YOUTUBE', 'COMENTARIOS', '2020', '0', '0', '2', '0', '6', '0', '0', '0', '0', '1', '3', '0', '']\n",
            "['YOUTUBE', 'ME GUSTA', '2020', '4', '15', '15', '8', '30', '33', '0', '0', '0', '8', '23', '0', '']\n",
            "['152', '660', '0.43%', '45', '8771', '2338', '902', '62', '863', '1%', '77', '563', '1224', '197275', '1', '12', '0', '4'] \n",
            " ['957', '3', '3%', '106', '15', '4214', '1100', '232', '1', '2%', '135', '847', '1', '311', '4', '605', '0', '8']\n",
            "\n",
            "La diferencia de Views en youtube entre los mese seleccioandos es de:  593\n"
          ]
        }
      ]
    },
    {
      "cell_type": "code",
      "source": [
        "#promedio de crecimiento de facebook y twiter entre enero a junio\n",
        "\n",
        "info= []\n",
        "info2 = []\n",
        "info3 = []\n",
        "info4 = []\n",
        "info5 = []\n",
        "info6 = []\n",
        "\n",
        "with open(\"presenciaredes.csv\") as archivo: \n",
        "        filas = archivo.read().splitlines()\n",
        "        filas.pop(0)\n",
        "        for l in filas:\n",
        "            colum = l.split(',')\n",
        "            info.append(colum[3])\n",
        "            info2.append(colum[4])\n",
        "            info3.append(colum[5])\n",
        "            info4.append(colum[6])\n",
        "            info5.append(colum[7])\n",
        "            info6.append(colum[8])\n",
        "            print(colum)\n",
        "\n",
        "print(info, \"\\n\", info2, \"\\n\", info3, \"\\n\", info4, \"\\n\", info5, \"\\n\", info6)\n",
        "sumaPromFace= int(info[1]) + int(info2[1]) + int(info3[1]) + int(info2[1]) + int(info5[1]) + int(info6[1])\n",
        "promFace= sumaPromFace / 6\n",
        "print(\"\\nEl promedio de crecimiento en Facebook es: \", promFace)\n",
        "\n",
        "sumaPromTwi= int(info[8]) + int(info2[8]) + int(info3[8]) + int(info2[8]) + int(info5[8]) + int(info6[8])\n",
        "promTwi= sumaPromTwi / 6\n",
        "print(\"\\nEl promedio de crecimiento en Twitter es: \", promTwi)"
      ],
      "metadata": {
        "colab": {
          "base_uri": "https://localhost:8080/"
        },
        "id": "SM7WhOXA2f-v",
        "outputId": "0761deef-e3df-4c9d-972b-d1dc75068538"
      },
      "execution_count": 13,
      "outputs": [
        {
          "output_type": "stream",
          "name": "stdout",
          "text": [
            "['FACEBOOK', 'SEGUIDORES', '2020', '152', '107', '156', '957', '160', '595', '165', '180', '170', '488', '178', '413', '0', '0', '0', '0', '0', '0', '']\n",
            "['FACEBOOK', 'CRECIMIENTO (seguidores)', '2020', '660', '4', '850', '3', '638', '4', '585', '5', '308', '7', '925', '0', '0', '0', '0', '0', '0', '']\n",
            "['FACEBOOK', 'PORCENTAJE DE CRECIMIENTO ', '2020', '0.43%', '3%', '2%', '3%', '3%', '4%', '0%', '0%', '0%', '0.00%', '0.00%', '0%', '']\n",
            "['FACEBOOK', 'PUBLICACIONES ', '2020', '45', '53', '52', '106', '98', '64', '0', '0', '0', '0', '0', '0', '']\n",
            "['FACEBOOK', 'ME GUSTA EN PUBLICACIONES ', '2020', '8771', '9002', '13556', '15', '022', '38953', '16487', '0', '0', '0', '0', '0', '0', '']\n",
            "['FACEBOOK', 'PUBLICACIONES COMPARTIDAS ', '2020', '2338', '2680', '2802', '4214', '8415', '4240', '0', '0', '0', '0', '0', '0', '']\n",
            "['FACEBOOK', 'COMENTARIOS (USUARIOS)', '2020', '902', '601', '775', '1100', '2614', '1268', '0', '0', '0', '0', '0', '0', '']\n",
            "['TWITTER', 'SEGUIDORES (FOLLOWERS)', '2020', '62', '404', '63', '232', '64', '149', '65', '410', '66', '355', '67', '496', '0', '0', '0', '0', '0', '0', '']\n",
            "['TWITTER', 'CRECIMIENTO DE FOLLOWERS', '2020', '863', '828', '917', '1', '261', '945', '1', '141', '0', '0', '0', '0', '0', '0', '']\n",
            "['TWITTER', 'PORCENTAJE DE CRECIMIENTO', '2020', '1%', '1%', '1%', '2%', '1%', '1%', '0%', '0%', '0%', '0.00%', '0%', '0%', '']\n",
            "['TWITTER', 'PUBLICACIONES', '2020', '77', '84', '90', '135', '127', '82', '0', '0', '0', '0', '0', '0', '']\n",
            "['TWITTER', 'RETUITS', '2020', '563', '601', '748', '847', '1', '136', '780', '0', '0', '0', '0', '0', '0', '']\n",
            "['TWITTER', 'ME GUSTA', '2020', '1224', '1225', '1601', '1', '994', '2', '667', '2069', '0', '0', '0', '0', '0', '0', '']\n",
            "['TWITTER', 'IMPACTOS', '2020', '197275', '220118', '270310', '311', '931', '409', '684', '284147', '0', '0', '0', '0', '0', '0', '']\n",
            "['YOUTUBE', 'VIDEOS', '2020', '1', '2', '5', '4', '4', '4', '0', '0', '0', '3', '5', '0', '']\n",
            "['YOUTUBE', 'VISUALIZACIONES', '2020', '12', '226', '15', '605', '19', '602', '19', '452', '21', '805', '17344', '0', '0', '0', '0', '0', '0', '']\n",
            "['YOUTUBE', 'COMENTARIOS', '2020', '0', '0', '2', '0', '6', '0', '0', '0', '0', '1', '3', '0', '']\n",
            "['YOUTUBE', 'ME GUSTA', '2020', '4', '15', '15', '8', '30', '33', '0', '0', '0', '8', '23', '0', '']\n",
            "['152', '660', '0.43%', '45', '8771', '2338', '902', '62', '863', '1%', '77', '563', '1224', '197275', '1', '12', '0', '4'] \n",
            " ['107', '4', '3%', '53', '9002', '2680', '601', '404', '828', '1%', '84', '601', '1225', '220118', '2', '226', '0', '15'] \n",
            " ['156', '850', '2%', '52', '13556', '2802', '775', '63', '917', '1%', '90', '748', '1601', '270310', '5', '15', '2', '15'] \n",
            " ['957', '3', '3%', '106', '15', '4214', '1100', '232', '1', '2%', '135', '847', '1', '311', '4', '605', '0', '8'] \n",
            " ['160', '638', '3%', '98', '022', '8415', '2614', '64', '261', '1%', '127', '1', '994', '931', '4', '19', '6', '30'] \n",
            " ['595', '4', '4%', '64', '38953', '4240', '1268', '149', '945', '1%', '82', '136', '2', '409', '4', '602', '0', '33']\n",
            "\n",
            "El promedio de crecimiento en Facebook es:  360.0\n",
            "\n",
            "El promedio de crecimiento en Twitter es:  773.6666666666666\n"
          ]
        }
      ]
    }
  ]
}